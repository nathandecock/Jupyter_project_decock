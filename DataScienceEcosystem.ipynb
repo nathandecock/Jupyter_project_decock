{
 "cells": [
  {
   "cell_type": "markdown",
   "id": "4f74baed-5b2d-4976-96c2-66673bf8d944",
   "metadata": {},
   "source": [
    "# **Data Science Tools and Ecosystem**"
   ]
  },
  {
   "cell_type": "markdown",
   "id": "87428006-a064-49be-9c2c-3ae83ae5642c",
   "metadata": {},
   "source": [
    "In this note book, Data Science Tools and Ecosystem are summarized."
   ]
  },
  {
   "cell_type": "markdown",
   "id": "cc4a454c-f150-4bbc-9957-7c142d07d574",
   "metadata": {},
   "source": [
    "Some of the popular languages that Data Scientists use are : "
   ]
  },
  {
   "cell_type": "markdown",
   "id": "193ca413-47a0-4b8a-8e56-03607f5987fc",
   "metadata": {},
   "source": [
    "1. Python\n",
    "2. C++\n",
    "3. Java\n",
    "4. Scala"
   ]
  },
  {
   "cell_type": "markdown",
   "id": "8d1a94b0-55f1-472b-a729-91665d8044ae",
   "metadata": {},
   "source": [
    "Some of the commonly used libraries used by Data Scientists include :"
   ]
  },
  {
   "cell_type": "markdown",
   "id": "e5d12c86-78bc-4f29-9d40-bcfda608362e",
   "metadata": {},
   "source": [
    "1. Pandas\n",
    "2. Numpy\n",
    "3. Matplotlib\n",
    "4. Seaborn\n",
    "5. Scikit-learn\n"
   ]
  },
  {
   "cell_type": "markdown",
   "id": "c6c3ac75-4b36-43dc-a8f7-733db2a3e9b2",
   "metadata": {},
   "source": [
    "|Data Science Tools|\n",
    "  ----------------\n",
    "|Rstudio's|\n",
    "|Spark|\n",
    "|Hadoop|\n",
    "|Jupyter Notebooks|\n"
   ]
  },
  {
   "cell_type": "markdown",
   "id": "0d66807d-a714-458d-8d4e-bd0b7eb26849",
   "metadata": {},
   "source": [
    "### Below are a few examples of evaluating arithmetic expression in Python."
   ]
  },
  {
   "cell_type": "code",
   "execution_count": 2,
   "id": "619e7aad-6dd7-4560-b88e-f71004a82742",
   "metadata": {},
   "outputs": [
    {
     "data": {
      "text/plain": [
       "17"
      ]
     },
     "execution_count": 2,
     "metadata": {},
     "output_type": "execute_result"
    }
   ],
   "source": [
    "(3*4)+5"
   ]
  },
  {
   "cell_type": "code",
   "execution_count": 3,
   "id": "3229ff58-a4c1-4eb7-aa54-cc6f933236e8",
   "metadata": {},
   "outputs": [],
   "source": [
    "#This a simple arithmetic expression to multiply then add integers."
   ]
  },
  {
   "cell_type": "code",
   "execution_count": 4,
   "id": "5f165295-3e14-4e4c-b5ba-b17737b902dc",
   "metadata": {},
   "outputs": [],
   "source": [
    "# This will convert 200 minutes to hours by diving by 60"
   ]
  },
  {
   "cell_type": "code",
   "execution_count": 5,
   "id": "de08ae07-34f0-468a-8701-ab7460e93e56",
   "metadata": {},
   "outputs": [
    {
     "data": {
      "text/plain": [
       "3.3333333333333335"
      ]
     },
     "execution_count": 5,
     "metadata": {},
     "output_type": "execute_result"
    }
   ],
   "source": [
    "200/60"
   ]
  },
  {
   "cell_type": "markdown",
   "id": "0674b30f-dce6-48f5-bdaa-165cb9bced86",
   "metadata": {},
   "source": [
    "**Objectives :**"
   ]
  },
  {
   "cell_type": "markdown",
   "id": "70ef1b30-0e0c-41c5-87c6-3691a620106d",
   "metadata": {},
   "source": [
    "- List Popular languages for Data Science\n",
    "- List Popular libraries for Data Science\n",
    "- List Popular Tools for Data Science\n",
    "- Use Jupyter Notebooks "
   ]
  },
  {
   "cell_type": "markdown",
   "id": "1a1c8d77-63e2-4123-bc06-8cb947a1b93e",
   "metadata": {},
   "source": [
    "## Author Decock"
   ]
  },
  {
   "cell_type": "code",
   "execution_count": null,
   "id": "022afbea-b94e-44cb-b420-7fb5606cc189",
   "metadata": {},
   "outputs": [],
   "source": []
  }
 ],
 "metadata": {
  "kernelspec": {
   "display_name": "Python 3 (ipykernel)",
   "language": "python",
   "name": "python3"
  },
  "language_info": {
   "codemirror_mode": {
    "name": "ipython",
    "version": 3
   },
   "file_extension": ".py",
   "mimetype": "text/x-python",
   "name": "python",
   "nbconvert_exporter": "python",
   "pygments_lexer": "ipython3",
   "version": "3.11.7"
  }
 },
 "nbformat": 4,
 "nbformat_minor": 5
}
